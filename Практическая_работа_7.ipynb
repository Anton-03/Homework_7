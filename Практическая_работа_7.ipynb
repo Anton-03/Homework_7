{
 "cells": [
  {
   "cell_type": "markdown",
   "metadata": {},
   "source": [
    "# Задача 1"
   ]
  },
  {
   "cell_type": "code",
   "execution_count": 50,
   "metadata": {},
   "outputs": [
    {
     "name": "stdout",
     "output_type": "stream",
     "text": [
      "9\n",
      "8\n",
      "7\n",
      "6\n",
      "6\n"
     ]
    }
   ],
   "source": [
    "a,b,c,d = int(input()),int(input()),int(input()),int(input())\n",
    " \n",
    "def min4(a, b, c, d):\n",
    "    return min(min(min(a, b), c), d)\n",
    " \n",
    "print(min4(a, b, c, d))"
   ]
  },
  {
   "cell_type": "markdown",
   "metadata": {},
   "source": [
    "# Задача 2 "
   ]
  },
  {
   "cell_type": "code",
   "execution_count": 54,
   "metadata": {},
   "outputs": [
    {
     "name": "stdout",
     "output_type": "stream",
     "text": [
      "0\n",
      "0\n",
      "1\n",
      "1\n",
      "1.4142135623730951\n"
     ]
    }
   ],
   "source": [
    "def distance(x1, y1, x2, y2):\n",
    "    return sqrt((x1 - x2) ** 2 + (y1 - y2) ** 2)\n",
    " \n",
    "x1,x2,y1,y2 = float(input()),float(input()),float(input()),float(input())\n",
    "print(distance(x1, x2, y1, y2))"
   ]
  },
  {
   "cell_type": "markdown",
   "metadata": {},
   "source": [
    "# Задача 3"
   ]
  },
  {
   "cell_type": "code",
   "execution_count": 68,
   "metadata": {},
   "outputs": [
    {
     "name": "stdout",
     "output_type": "stream",
     "text": [
      "4\n",
      "5\n",
      "2\n",
      "-5\n",
      "-4\n",
      "1\n",
      "13.569720777555155\n"
     ]
    }
   ],
   "source": [
    "def Dlina(x1,y1,x2,y2):\n",
    "    return sqrt((x2-x1)**2+(y2-y1)**2)\n",
    "\n",
    "x1,x2,x3,y1,y2,y3 = float(input()),float(input()),float(input()),float(input()),float(input()),float(input())\n",
    "AB= Dlina(x1,y1,x2,y2)\n",
    "BC= Dlina(x2,y2,x3,y3)\n",
    "AC= Dlina(x1,y1,x3,y3)\n",
    "P=AB+BC+AC\n",
    "print(P)"
   ]
  },
  {
   "cell_type": "markdown",
   "metadata": {},
   "source": [
    "# Задача 4"
   ]
  },
  {
   "cell_type": "code",
   "execution_count": 81,
   "metadata": {},
   "outputs": [
    {
     "name": "stdout",
     "output_type": "stream",
     "text": [
      "0\n",
      "0\n",
      "YES\n"
     ]
    }
   ],
   "source": [
    "def isPointInSquare(x,y,v):\n",
    "    return (v**2 >= x**2) and (v**2 >= y**2) \n",
    " \n",
    "x, y = float(input()), float(input())\n",
    "if isPointInSquare(x, y, 1):\n",
    "    print('YES')\n",
    "else:\n",
    "    print('NO')\n"
   ]
  },
  {
   "cell_type": "markdown",
   "metadata": {},
   "source": [
    "# Задача 5"
   ]
  },
  {
   "cell_type": "code",
   "execution_count": 88,
   "metadata": {},
   "outputs": [
    {
     "name": "stdout",
     "output_type": "stream",
     "text": [
      "0.5\n",
      "0.5\n",
      "YES\n"
     ]
    }
   ],
   "source": [
    "def IsPointInSquare(x,y): \n",
    "    return abs(x) + abs(y) <= 1;\n",
    "\n",
    "\n",
    "x,y = float(input()),float(input()),\n",
    "if IsPointInSquare(x, y):\n",
    "    print('YES')\n",
    "else:\n",
    "    print('NO')\n"
   ]
  },
  {
   "cell_type": "markdown",
   "metadata": {},
   "source": [
    "# Задача 6"
   ]
  },
  {
   "cell_type": "code",
   "execution_count": 92,
   "metadata": {},
   "outputs": [
    {
     "name": "stdout",
     "output_type": "stream",
     "text": [
      "0.5\n",
      "0.5\n",
      "0\n",
      "0\n",
      "1\n",
      "YES\n"
     ]
    }
   ],
   "source": [
    "def IsPointInCircle(x, y, xc, yc, r):\n",
    "    return (x-xc)*(x-xc)+(y-yc)*(y-yc)<=r*r\n",
    "\n",
    "x,y,xc,yc,r = float(input()),float(input()),float(input()),float(input()),float(input())\n",
    "if IsPointInCircle(x, y, xc, yc, r):\n",
    "    print(\"YES\")\n",
    "else:\n",
    "    print(\"NO\")"
   ]
  },
  {
   "cell_type": "markdown",
   "metadata": {},
   "source": [
    "# Задача 7"
   ]
  },
  {
   "cell_type": "code",
   "execution_count": 100,
   "metadata": {},
   "outputs": [
    {
     "name": "stdout",
     "output_type": "stream",
     "text": [
      "0\n",
      "-5\n",
      "YES\n"
     ]
    }
   ],
   "source": [
    "def IsPointInArea(x,y):\n",
    "    A = 2 * 2 >= abs(x + 1) * abs(x + 1) + abs(y - 1) * abs(y - 1)\n",
    "    B = y >= 2 * x + 2\n",
    "    C = y >= -x\n",
    "    E = y <= 2 * x + 2\n",
    "    R = y <= -x\n",
    "    G = 2 * 2 == abs(x + 1) * abs(x + 1) + abs(y - 1) * abs(y - 1)\n",
    "    return A and B and C or (G or not A) and E and R\n",
    "\n",
    "\n",
    "x,y = float(input()),float(input())\n",
    "if IsPointInArea(x, y):\n",
    "    print(\"YES\")\n",
    "else:\n",
    "    print(\"NO\")"
   ]
  },
  {
   "cell_type": "markdown",
   "metadata": {},
   "source": [
    "# Задача 8"
   ]
  },
  {
   "cell_type": "code",
   "execution_count": 7,
   "metadata": {},
   "outputs": [
    {
     "name": "stdout",
     "output_type": "stream",
     "text": [
      "0\n",
      "1\n",
      "1\n"
     ]
    }
   ],
   "source": [
    "def xor(x,y):\n",
    "    return x != y\n",
    "x, y = int(input()),int(input())\n",
    "if xor(x,y)==True:\n",
    "        print(1)\n",
    "else:\n",
    "        print(0)"
   ]
  },
  {
   "cell_type": "markdown",
   "metadata": {},
   "source": [
    "# Задача 9"
   ]
  },
  {
   "cell_type": "code",
   "execution_count": 13,
   "metadata": {},
   "outputs": [
    {
     "name": "stdout",
     "output_type": "stream",
     "text": [
      "4\n",
      "2\n"
     ]
    }
   ],
   "source": [
    "n = int(input())\n",
    "def MinDivisor(n):\n",
    "    i = 2\n",
    "    while n % i != 0:\n",
    "        if i >= sqrt(n):\n",
    "            print(n)\n",
    "            return\n",
    "        i += 1\n",
    "    print(i)\n",
    "MinDivisor(n)"
   ]
  },
  {
   "cell_type": "markdown",
   "metadata": {},
   "source": [
    "# Задача 10"
   ]
  },
  {
   "cell_type": "code",
   "execution_count": 31,
   "metadata": {},
   "outputs": [
    {
     "name": "stdout",
     "output_type": "stream",
     "text": [
      "4\n",
      "No\n",
      "None\n"
     ]
    }
   ],
   "source": [
    "def Isprime(n):\n",
    "    i = 2\n",
    "    j = 0\n",
    "    while(True):\n",
    "        if(i*i <= n and j != 1):\n",
    "            if(n % i == 0):\n",
    "                j=j+1\n",
    "            i=i+1\n",
    "        elif(j==1):\n",
    "            print('No')\n",
    "            return \n",
    "        else:\n",
    "            print('Yes')\n",
    "            return\n",
    "print(Isprime(int(input())))"
   ]
  },
  {
   "cell_type": "markdown",
   "metadata": {},
   "source": [
    "# Задача 11"
   ]
  },
  {
   "cell_type": "code",
   "execution_count": 35,
   "metadata": {},
   "outputs": [
    {
     "name": "stdout",
     "output_type": "stream",
     "text": [
      "5\n",
      "4\n",
      "625.0\n"
     ]
    }
   ],
   "source": [
    "def power(a, n):\n",
    "    if n == 0:\n",
    "        return 1\n",
    "    else:\n",
    "        return a * power(a, n - 1)\n",
    "print(power(float(input()), int(input())))"
   ]
  },
  {
   "cell_type": "markdown",
   "metadata": {},
   "source": [
    "# Задача 12"
   ]
  },
  {
   "cell_type": "code",
   "execution_count": 37,
   "metadata": {},
   "outputs": [
    {
     "name": "stdout",
     "output_type": "stream",
     "text": [
      "2\n",
      "2\n",
      "4\n"
     ]
    }
   ],
   "source": [
    "def power(a, n):\n",
    "    if n == 0:\n",
    "        return 1\n",
    "    else:\n",
    "        return a * power(a, n - 1)\n",
    "print(power(int(input()), int(input())))"
   ]
  },
  {
   "cell_type": "markdown",
   "metadata": {},
   "source": [
    "# Задача 13"
   ]
  },
  {
   "cell_type": "code",
   "execution_count": 57,
   "metadata": {},
   "outputs": [
    {
     "name": "stdout",
     "output_type": "stream",
     "text": [
      "34\n",
      "454\n"
     ]
    },
    {
     "data": {
      "text/plain": [
       "488"
      ]
     },
     "execution_count": 57,
     "metadata": {},
     "output_type": "execute_result"
    }
   ],
   "source": [
    "def sum(a, b):\n",
    "    if a == 0:\n",
    "        return b;\n",
    "    return sum(a-1, b+1)\n",
    "sum(int(input()), int(input()))"
   ]
  },
  {
   "cell_type": "markdown",
   "metadata": {},
   "source": [
    "# Задача 14"
   ]
  },
  {
   "cell_type": "code",
   "execution_count": 59,
   "metadata": {},
   "outputs": [
    {
     "name": "stdout",
     "output_type": "stream",
     "text": [
      "3\n",
      "4\n",
      "81\n"
     ]
    }
   ],
   "source": [
    "def power(a, n):\n",
    "    if n == 0:\n",
    "        return 1\n",
    "    if n % 2 == 0:\n",
    "        return power(a, n/2)**2\n",
    "    else:\n",
    "        return a*power(a, n-1)\n",
    "    \n",
    "print(power(int(input()),int(input())))"
   ]
  },
  {
   "cell_type": "markdown",
   "metadata": {},
   "source": [
    "# Задача 15"
   ]
  },
  {
   "cell_type": "code",
   "execution_count": 62,
   "metadata": {},
   "outputs": [
    {
     "name": "stdout",
     "output_type": "stream",
     "text": [
      "2\n",
      "2\n",
      "2\n"
     ]
    }
   ],
   "source": [
    "def gcd(a, b):\n",
    "    if b == 0:\n",
    "        return a\n",
    "    else: \n",
    "        return gcd(b, a % b)\n",
    "print(gcd(int(input()),int(input())))"
   ]
  },
  {
   "cell_type": "markdown",
   "metadata": {},
   "source": [
    "# Задача 16"
   ]
  },
  {
   "cell_type": "code",
   "execution_count": 67,
   "metadata": {},
   "outputs": [
    {
     "name": "stdout",
     "output_type": "stream",
     "text": [
      "15\n",
      "12\n",
      "(5, 4)\n"
     ]
    }
   ],
   "source": [
    "def ReduceFraction(n, m):\n",
    "    div = gcd(n, m)\n",
    "    return n // div, m // div\n",
    "print(ReduceFraction(int(input()), int(input())))"
   ]
  },
  {
   "cell_type": "markdown",
   "metadata": {},
   "source": [
    "# Задача 17"
   ]
  },
  {
   "cell_type": "code",
   "execution_count": 68,
   "metadata": {},
   "outputs": [
    {
     "name": "stdout",
     "output_type": "stream",
     "text": [
      "3\n",
      "2\n"
     ]
    }
   ],
   "source": [
    "def phib(n):\n",
    "    if n == 1 or n == 2:\n",
    "        return 1\n",
    "    else:\n",
    "        return phib(n - 1) + phib(n - 2)\n",
    "print(phib(int(input())))"
   ]
  },
  {
   "cell_type": "markdown",
   "metadata": {},
   "source": [
    "# Задача 18"
   ]
  },
  {
   "cell_type": "code",
   "execution_count": 83,
   "metadata": {},
   "outputs": [
    {
     "name": "stdout",
     "output_type": "stream",
     "text": [
      "4\n",
      "3\n",
      "4\n"
     ]
    }
   ],
   "source": [
    "def fan(n, k):\n",
    "    if k == n or k == 0:\n",
    "        return 1\n",
    "    return fan(n - 1, k - 1) + fan(n - 1, k)\n",
    "print(fan(int(input()), int(input())))"
   ]
  },
  {
   "cell_type": "markdown",
   "metadata": {},
   "source": [
    "# Задача 19"
   ]
  },
  {
   "cell_type": "code",
   "execution_count": 86,
   "metadata": {},
   "outputs": [
    {
     "name": "stdout",
     "output_type": "stream",
     "text": [
      "1\n",
      "2\n",
      "3\n",
      "4\n",
      "0\n",
      "10\n"
     ]
    }
   ],
   "source": [
    "def sum():\n",
    "    n = int(input())\n",
    "    if n==0:\n",
    "        return 0\n",
    "    return n + sum()\n",
    "print(sum())"
   ]
  },
  {
   "cell_type": "markdown",
   "metadata": {},
   "source": [
    "# Задача 20"
   ]
  },
  {
   "cell_type": "code",
   "execution_count": 90,
   "metadata": {},
   "outputs": [
    {
     "name": "stdout",
     "output_type": "stream",
     "text": [
      "1\n",
      "2\n",
      "3\n",
      "34\n",
      "4\n",
      "0\n",
      "0\n",
      "4\n",
      "34\n",
      "3\n",
      "2\n",
      "1\n"
     ]
    }
   ],
   "source": [
    "def rv():\n",
    "    n = int(input())\n",
    "    if n != 0:\n",
    "        rv()\n",
    "    print(n)\n",
    "rv()"
   ]
  },
  {
   "cell_type": "markdown",
   "metadata": {},
   "source": [
    "# Задача 21"
   ]
  },
  {
   "cell_type": "code",
   "execution_count": 4,
   "metadata": {},
   "outputs": [
    {
     "name": "stdout",
     "output_type": "stream",
     "text": [
      "3\n",
      "1 1 3\n",
      "2 1 2\n",
      "1 3 2\n",
      "3 1 3\n",
      "1 2 1\n",
      "2 2 3\n",
      "1 1 3\n"
     ]
    }
   ],
   "source": [
    "def h(n, x, y):\n",
    "    if n == 1:\n",
    "        print(1, x, y)\n",
    "    else:\n",
    "        h(n-1, x, 6-x-y)\n",
    "        print(n, x, y)\n",
    "        h(n-1, 6-x-y, y)\n",
    "n=int(input())\n",
    "h(n, 1, 3)"
   ]
  },
  {
   "cell_type": "markdown",
   "metadata": {},
   "source": [
    "# Задача 22"
   ]
  },
  {
   "cell_type": "code",
   "execution_count": 15,
   "metadata": {},
   "outputs": [
    {
     "name": "stdout",
     "output_type": "stream",
     "text": [
      "345\n",
      "18\n",
      "4\n",
      "2\n",
      "1\n"
     ]
    }
   ],
   "source": [
    "def kv(n):\n",
    "    for i in range(4):\n",
    "        s = int(n ** 0.5)\n",
    "        n = n - s ** 2\n",
    "        print(s)\n",
    "n = int(input())\n",
    "kv(n)"
   ]
  },
  {
   "cell_type": "markdown",
   "metadata": {},
   "source": [
    "# Задача 23"
   ]
  },
  {
   "cell_type": "code",
   "execution_count": 2,
   "metadata": {},
   "outputs": [
    {
     "name": "stdout",
     "output_type": "stream",
     "text": [
      "654\n",
      "512 125 8 8 1\n"
     ]
    }
   ],
   "source": [
    "from math import *\n",
    " \n",
    "def solve(n, a, t):\n",
    "    c = n\n",
    "    d = t\n",
    "    while c > 0:\n",
    "        if d > 0:\n",
    "            x = trunc(float('{0:.11f}'.format((c ** (1 / 3))))) - 1\n",
    "            d -= 1\n",
    "        else:\n",
    "            x = trunc(float('{0:.11f}'.format((c ** (1 / 3)))))\n",
    "        if x <= 1:\n",
    "            x = trunc(float('{0:.11f}'.format((c ** (1 / 3)))))\n",
    "        if d > x:\n",
    "            print(0)\n",
    "            exit(0)\n",
    "        a.append(x ** 3)\n",
    "        c -= x ** 3\n",
    "        if len(a) > 7:\n",
    "            a.clear()\n",
    "            solve(n, a, t + 1)\n",
    "    print(*a)\n",
    "    exit(0)\n",
    " \n",
    " \n",
    "a = []\n",
    "n = int(input())\n",
    "t = 0\n",
    "solve(n, a, t)"
   ]
  },
  {
   "cell_type": "markdown",
   "metadata": {},
   "source": [
    "# Задача 24"
   ]
  },
  {
   "cell_type": "code",
   "execution_count": 10,
   "metadata": {},
   "outputs": [
    {
     "name": "stdout",
     "output_type": "stream",
     "text": [
      "1\n",
      "2\n",
      "3\n",
      "4\n",
      "0\n",
      "4\n",
      "1\n"
     ]
    }
   ],
   "source": [
    "def sqr():\n",
    "    n = int(input())\n",
    "    if n != 0:\n",
    "        sqr()\n",
    "        if (n ** (1 / 2)).is_integer():\n",
    "            t = 0\n",
    "            print(n)\n",
    "t = 1\n",
    "sqr()"
   ]
  }
 ],
 "metadata": {
  "kernelspec": {
   "display_name": "Python 3",
   "language": "python",
   "name": "python3"
  },
  "language_info": {
   "codemirror_mode": {
    "name": "ipython",
    "version": 3
   },
   "file_extension": ".py",
   "mimetype": "text/x-python",
   "name": "python",
   "nbconvert_exporter": "python",
   "pygments_lexer": "ipython3",
   "version": "3.7.6"
  }
 },
 "nbformat": 4,
 "nbformat_minor": 4
}
